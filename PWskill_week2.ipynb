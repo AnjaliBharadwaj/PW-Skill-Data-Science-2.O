{
 "cells": [
  {
   "cell_type": "markdown",
   "id": "68d3d0e0",
   "metadata": {},
   "source": [
    "Q1. How do you comment code in Python? What are the different types of comments?"
   ]
  },
  {
   "cell_type": "markdown",
   "id": "5b61fde8",
   "metadata": {},
   "source": [
    "1.single line comment \"#\"\n",
    "2. Multi line comment \" \"\"\"          \"\"\" \""
   ]
  },
  {
   "cell_type": "markdown",
   "id": "f9b5d6c5",
   "metadata": {},
   "source": [
    "e.g 1. # print(\"hello World\")\n",
    "e.g 2. \"\"\" Hello world With Colab you can import an image dataset, train an image classifier on it, and evaluate the model, all in just \n",
    "a few lines of code. Colab notebooks execute\"\"\""
   ]
  },
  {
   "cell_type": "markdown",
   "id": "f7ebabf1",
   "metadata": {},
   "source": [
    "Q2. What are variables in Python? How do you declare and assign values to variables?"
   ]
  },
  {
   "cell_type": "code",
   "execution_count": 1,
   "id": "c80328b6",
   "metadata": {},
   "outputs": [],
   "source": [
    "a= 12\n",
    "b=\"rain\"\n",
    "g=56.3"
   ]
  },
  {
   "cell_type": "markdown",
   "id": "af39cb99",
   "metadata": {},
   "source": [
    "Here \"a\" Variable ,it acts like a container which stores any data type it could be int , float,complex, list, tuple, set, string etc "
   ]
  },
  {
   "cell_type": "code",
   "execution_count": 4,
   "id": "68881440",
   "metadata": {},
   "outputs": [
    {
     "name": "stdout",
     "output_type": "stream",
     "text": [
      "Variable 'a' is holding a value :  12 & Datatype is  <class 'int'>\n",
      "Variable 'b' is holding a value :  rain & Datatype is  <class 'str'>\n",
      "Variable 'g' is holding a value :  56.3 & Datatype is  <class 'float'>\n"
     ]
    }
   ],
   "source": [
    "print(\"Variable 'a' is holding a value : \",a ,\"& Datatype is \",type(a))\n",
    "print(\"Variable 'b' is holding a value : \",b ,\"& Datatype is \",type(b))\n",
    "print(\"Variable 'g' is holding a value : \",g ,\"& Datatype is \",type(g))"
   ]
  },
  {
   "cell_type": "markdown",
   "id": "96286eb5",
   "metadata": {},
   "source": [
    "Q3. How do you convert one data type to another in Python?"
   ]
  },
  {
   "cell_type": "code",
   "execution_count": 10,
   "id": "1d9acf0a",
   "metadata": {},
   "outputs": [],
   "source": [
    "a= 12\n",
    "b=\"rain\"\n",
    "g=56.3"
   ]
  },
  {
   "cell_type": "code",
   "execution_count": 15,
   "id": "a7253ff1",
   "metadata": {},
   "outputs": [
    {
     "name": "stdout",
     "output_type": "stream",
     "text": [
      "Variable 'a' is holding a value :  12 & Datatype is  <class 'int'>\n",
      "Variable 'b' is holding a value :  rain & Datatype is  <class 'str'>\n",
      "Variable 'g' is holding a value :  56.3 & Datatype is  <class 'float'>\n"
     ]
    }
   ],
   "source": [
    "# Normal without converting Data type\n",
    "print(\"Variable 'a' is holding a value : \",a ,\"& Datatype is \",type(a))\n",
    "print(\"Variable 'b' is holding a value : \",b ,\"& Datatype is \",type(b))\n",
    "print(\"Variable 'g' is holding a value : \",g ,\"& Datatype is \",type(g))"
   ]
  },
  {
   "cell_type": "code",
   "execution_count": 19,
   "id": "07f99870",
   "metadata": {},
   "outputs": [],
   "source": [
    "f=float(a)\n",
    "e=[i for i in b]\n",
    "h=int(g)"
   ]
  },
  {
   "cell_type": "code",
   "execution_count": 21,
   "id": "b5bb1c4e",
   "metadata": {},
   "outputs": [
    {
     "name": "stdout",
     "output_type": "stream",
     "text": [
      "Variable 'f' is holding a value :  12.0 & Datatype is  <class 'float'>\n",
      "Variable 'e' is holding a value :  ['r', 'a', 'i', 'n'] & Datatype is  <class 'list'>\n",
      "Variable 'h' is holding a value :  56 & Datatype is  <class 'int'>\n"
     ]
    }
   ],
   "source": [
    "# After Convert data Type\n",
    "print(\"Variable 'f' is holding a value : \",f ,\"& Datatype is \",type(f))\n",
    "print(\"Variable 'e' is holding a value : \",e ,\"& Datatype is \",type(e))\n",
    "print(\"Variable 'h' is holding a value : \",h ,\"& Datatype is \",type(h))"
   ]
  },
  {
   "cell_type": "markdown",
   "id": "d8808c9b",
   "metadata": {},
   "source": [
    "Q4. How do you write and execute a Python script from the command line?"
   ]
  },
  {
   "cell_type": "markdown",
   "id": "922c3209",
   "metadata": {},
   "source": [
    "open a command line and type the word python followed by the path to your script file like this: python first_script.py Hello World! Then you hit the ENTER button from the keyboard, and that's it."
   ]
  },
  {
   "cell_type": "markdown",
   "id": "7768f04b",
   "metadata": {},
   "source": [
    "Q5. Given a list my_list = [1, 2, 3, 4, 5], write the code to slice the list and obtain the sub-list [2, 3]."
   ]
  },
  {
   "cell_type": "code",
   "execution_count": 25,
   "id": "52c106bd",
   "metadata": {},
   "outputs": [
    {
     "name": "stdout",
     "output_type": "stream",
     "text": [
      "[2, 3]\n"
     ]
    }
   ],
   "source": [
    "my_list=[1,2,3,4,5]\n",
    "print(my_list[1:-2])"
   ]
  },
  {
   "cell_type": "markdown",
   "id": "39e75081",
   "metadata": {},
   "source": [
    "Q6. What is a complex number in mathematics, and how is it represented in Python?"
   ]
  },
  {
   "cell_type": "markdown",
   "id": "ffe7c2b5",
   "metadata": {},
   "source": [
    "Complex number in mathematics where we use x,y eg. 2x+2xy-3x\n",
    "but in python we can not be x or y we can use j instead "
   ]
  },
  {
   "cell_type": "code",
   "execution_count": 26,
   "id": "c84ff773",
   "metadata": {},
   "outputs": [
    {
     "name": "stdout",
     "output_type": "stream",
     "text": [
      "e :  (23+4j)\n",
      "real number :  23.0\n",
      "imaginary number :  4.0\n"
     ]
    }
   ],
   "source": [
    "#e.g\n",
    "e=23+4j\n",
    "print(\"e : \",e)\n",
    "print(\"real number : \",e.real)\n",
    "print(\"imaginary number : \",e.imag)"
   ]
  },
  {
   "cell_type": "markdown",
   "id": "dd42a543",
   "metadata": {},
   "source": [
    "Q7. What is the correct way to declare a variable named age and assign the value 25 to it?"
   ]
  },
  {
   "cell_type": "code",
   "execution_count": 27,
   "id": "3460e0df",
   "metadata": {},
   "outputs": [],
   "source": [
    "Age = 25"
   ]
  },
  {
   "cell_type": "markdown",
   "id": "446a1afe",
   "metadata": {},
   "source": [
    "Above one is the correct way to assign the value "
   ]
  },
  {
   "cell_type": "markdown",
   "id": "fe96cafc",
   "metadata": {},
   "source": [
    "We can't assign Variable example"
   ]
  },
  {
   "cell_type": "markdown",
   "id": "70cd0ac2",
   "metadata": {},
   "source": [
    "@Age=25\n",
    "1Age=25\n",
    "these the those which we can't use for the variable assignment "
   ]
  },
  {
   "cell_type": "markdown",
   "id": "1c6a7135",
   "metadata": {},
   "source": [
    "Q8. Declare a variable named price and assign the value 9.99 to it. What data type does this variable\n",
    "belong to?"
   ]
  },
  {
   "cell_type": "code",
   "execution_count": 30,
   "id": "616b5ff3",
   "metadata": {},
   "outputs": [
    {
     "name": "stdout",
     "output_type": "stream",
     "text": [
      "Price : 9.99\n",
      "Data Type : <class 'float'>\n"
     ]
    }
   ],
   "source": [
    "price=9.99\n",
    "print(\"Price :\",price)\n",
    "print(\"Data Type :\",type(price))"
   ]
  },
  {
   "cell_type": "markdown",
   "id": "b20b516e",
   "metadata": {},
   "source": [
    "Q9. Create a variable named name and assign your full name to it as a string. How would you print the\n",
    "value of this variable?"
   ]
  },
  {
   "cell_type": "code",
   "execution_count": 31,
   "id": "6abb5375",
   "metadata": {},
   "outputs": [
    {
     "name": "stdout",
     "output_type": "stream",
     "text": [
      "Akshay Kumar Mehta\n"
     ]
    }
   ],
   "source": [
    "name=\"Akshay Kumar Mehta\"\n",
    "print(name)"
   ]
  },
  {
   "cell_type": "markdown",
   "id": "adab651a",
   "metadata": {},
   "source": [
    "Q10. Given the string \"Hello, World!\", extract the substring \"World\"."
   ]
  },
  {
   "cell_type": "code",
   "execution_count": 43,
   "id": "1e63eccf",
   "metadata": {},
   "outputs": [
    {
     "name": "stdout",
     "output_type": "stream",
     "text": [
      "World\n"
     ]
    }
   ],
   "source": [
    "string1=\"Hello,World!\"\n",
    "print(string1.partition(\"World\")[1])"
   ]
  },
  {
   "cell_type": "markdown",
   "id": "b05ec615",
   "metadata": {},
   "source": [
    "Q11. Create a variable named \"is_student\" and assign it a boolean value indicating whether you are\n",
    "currently a student or not."
   ]
  },
  {
   "cell_type": "code",
   "execution_count": 47,
   "id": "fec948a1",
   "metadata": {},
   "outputs": [
    {
     "name": "stdout",
     "output_type": "stream",
     "text": [
      "False\n"
     ]
    }
   ],
   "source": [
    "is_student=0\n",
    "print(bool(is_student))"
   ]
  }
 ],
 "metadata": {
  "kernelspec": {
   "display_name": "Python 3 (ipykernel)",
   "language": "python",
   "name": "python3"
  },
  "language_info": {
   "codemirror_mode": {
    "name": "ipython",
    "version": 3
   },
   "file_extension": ".py",
   "mimetype": "text/x-python",
   "name": "python",
   "nbconvert_exporter": "python",
   "pygments_lexer": "ipython3",
   "version": "3.11.5"
  }
 },
 "nbformat": 4,
 "nbformat_minor": 5
}
