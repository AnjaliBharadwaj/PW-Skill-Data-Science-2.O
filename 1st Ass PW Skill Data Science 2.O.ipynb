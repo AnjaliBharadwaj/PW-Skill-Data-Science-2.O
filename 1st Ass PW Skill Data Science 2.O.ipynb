{
 "cells": [
  {
   "cell_type": "markdown",
   "id": "c7e0eadd",
   "metadata": {},
   "source": [
    "# Q1"
   ]
  },
  {
   "cell_type": "code",
   "execution_count": 1,
   "id": "1cba5cb3",
   "metadata": {},
   "outputs": [],
   "source": [
    "# string\n",
    "A=\"Heyna\""
   ]
  },
  {
   "cell_type": "code",
   "execution_count": 2,
   "id": "500b9538",
   "metadata": {},
   "outputs": [],
   "source": [
    "#list\n",
    "B=[1,2,3,4,\"Heyna\",2+7j,4.6]"
   ]
  },
  {
   "cell_type": "code",
   "execution_count": 3,
   "id": "c49d8e9d",
   "metadata": {},
   "outputs": [],
   "source": [
    "#float\n",
    "C=3.4"
   ]
  },
  {
   "cell_type": "code",
   "execution_count": 4,
   "id": "87971333",
   "metadata": {},
   "outputs": [],
   "source": [
    "#Tuple\n",
    "D=(1,2,8.4)"
   ]
  },
  {
   "cell_type": "code",
   "execution_count": 5,
   "id": "740325f0",
   "metadata": {},
   "outputs": [
    {
     "data": {
      "text/plain": [
       "str"
      ]
     },
     "execution_count": 5,
     "metadata": {},
     "output_type": "execute_result"
    }
   ],
   "source": [
    "type(A)"
   ]
  },
  {
   "cell_type": "code",
   "execution_count": 6,
   "id": "0c1b1e3d",
   "metadata": {},
   "outputs": [
    {
     "data": {
      "text/plain": [
       "list"
      ]
     },
     "execution_count": 6,
     "metadata": {},
     "output_type": "execute_result"
    }
   ],
   "source": [
    "type(B)"
   ]
  },
  {
   "cell_type": "code",
   "execution_count": 7,
   "id": "dd5572df",
   "metadata": {},
   "outputs": [
    {
     "data": {
      "text/plain": [
       "float"
      ]
     },
     "execution_count": 7,
     "metadata": {},
     "output_type": "execute_result"
    }
   ],
   "source": [
    "type(C)"
   ]
  },
  {
   "cell_type": "code",
   "execution_count": 8,
   "id": "a75f8b28",
   "metadata": {},
   "outputs": [
    {
     "data": {
      "text/plain": [
       "tuple"
      ]
     },
     "execution_count": 8,
     "metadata": {},
     "output_type": "execute_result"
    }
   ],
   "source": [
    "type(D)"
   ]
  },
  {
   "cell_type": "markdown",
   "id": "ea421a00",
   "metadata": {},
   "source": [
    "# Q2"
   ]
  },
  {
   "cell_type": "markdown",
   "id": "c2cab997",
   "metadata": {},
   "source": [
    "i) String\n",
    "ii)String\n",
    "iii)list\n",
    "iv)float"
   ]
  },
  {
   "cell_type": "markdown",
   "id": "7a30c230",
   "metadata": {},
   "source": [
    "# Q3"
   ]
  },
  {
   "cell_type": "code",
   "execution_count": 9,
   "id": "e5d750a3",
   "metadata": {},
   "outputs": [
    {
     "name": "stdout",
     "output_type": "stream",
     "text": [
      "2.0\n"
     ]
    }
   ],
   "source": [
    "# i) /  \n",
    "# it is division sign\n",
    "w=4/2\n",
    "print(w)"
   ]
  },
  {
   "cell_type": "code",
   "execution_count": 10,
   "id": "e58ca318",
   "metadata": {},
   "outputs": [
    {
     "name": "stdout",
     "output_type": "stream",
     "text": [
      "0\n"
     ]
    }
   ],
   "source": [
    "# ii) % \n",
    "# it is modolus it gives remainder\n",
    "e=10%2 \n",
    "print(e)"
   ]
  },
  {
   "cell_type": "code",
   "execution_count": 11,
   "id": "eaa51653",
   "metadata": {},
   "outputs": [
    {
     "name": "stdout",
     "output_type": "stream",
     "text": [
      "7\n"
     ]
    }
   ],
   "source": [
    "# iii) // \n",
    "# it is a floor divison in short it roundoff the float result into integer\n",
    "r= 15//2\n",
    "print(r)"
   ]
  },
  {
   "cell_type": "code",
   "execution_count": 12,
   "id": "3c0404b8",
   "metadata": {},
   "outputs": [
    {
     "data": {
      "text/plain": [
       "int"
      ]
     },
     "execution_count": 12,
     "metadata": {},
     "output_type": "execute_result"
    }
   ],
   "source": [
    "type(r)"
   ]
  },
  {
   "cell_type": "code",
   "execution_count": 13,
   "id": "dc9f16ee",
   "metadata": {},
   "outputs": [
    {
     "name": "stdout",
     "output_type": "stream",
     "text": [
      "8\n"
     ]
    }
   ],
   "source": [
    "# iv) **\n",
    "# it is power \n",
    "p= 2**3  # mean 2*2*2\n",
    "print(p)"
   ]
  },
  {
   "cell_type": "markdown",
   "id": "16182713",
   "metadata": {},
   "source": [
    "\n",
    "# Q4"
   ]
  },
  {
   "cell_type": "code",
   "execution_count": 14,
   "id": "e77bffda",
   "metadata": {
    "scrolled": false
   },
   "outputs": [
    {
     "name": "stdout",
     "output_type": "stream",
     "text": [
      "Output: 1 | DataType: <class 'int'>\n",
      "Output: 3.5 | DataType: <class 'float'>\n",
      "Output: (4-6j) | DataType: <class 'complex'>\n",
      "Output: Heyna | DataType: <class 'str'>\n",
      "Output: (1, 2) | DataType: <class 'tuple'>\n",
      "Output: {1: 23, 3: 2} | DataType: <class 'dict'>\n"
     ]
    }
   ],
   "source": [
    "u=[1,3.5,4-6j,\"Heyna\",(1,2),{1:23,3:2}]\n",
    "for i in u:\n",
    "    print(\"Output:\",i,\"|\",\"DataType:\",type(i))\n",
    "    \n"
   ]
  },
  {
   "cell_type": "markdown",
   "id": "e40e9b65",
   "metadata": {},
   "source": [
    "# Q5"
   ]
  },
  {
   "cell_type": "code",
   "execution_count": 18,
   "id": "91e0935f",
   "metadata": {},
   "outputs": [
    {
     "name": "stdout",
     "output_type": "stream",
     "text": [
      "Enter the Numerator A: 25\n",
      "Enter the Denominator B: 5\n",
      "1 Times can be divisible \n"
     ]
    }
   ],
   "source": [
    "A = int(input(\"Enter the Numerator A: \"))\n",
    "B = int(input(\"Enter the Denominator B: \"))\n",
    "count = 0\n",
    "\n",
    "while A % B == 0:\n",
    "    A = A // B  \n",
    "    count += 1\n",
    "\n",
    "if count>0:\n",
    "    print(A, \"Times can be divisible \")\n",
    "    \n",
    "else:\n",
    "    print(A, \"Not proper division\")"
   ]
  },
  {
   "cell_type": "markdown",
   "id": "e1928720",
   "metadata": {},
   "source": [
    "# Q6"
   ]
  },
  {
   "cell_type": "code",
   "execution_count": 22,
   "id": "a0872f8d",
   "metadata": {},
   "outputs": [
    {
     "name": "stdout",
     "output_type": "stream",
     "text": [
      "[1, 2, 3, 4, 5, 6, 7, 8, 9, 10, 11, 12, 13, 14, 15, 16, 17, 18, 19, 20, 21, 22, 23, 24, 25]\n"
     ]
    }
   ],
   "source": [
    "reult=[]\n",
    "for i in range(1,25+1):\n",
    "    reult.append(i)\n",
    "print(reult)"
   ]
  },
  {
   "cell_type": "code",
   "execution_count": 29,
   "id": "2522ba04",
   "metadata": {},
   "outputs": [
    {
     "name": "stdout",
     "output_type": "stream",
     "text": [
      "1 is not divisible by 3\n",
      "2 is not divisible by 3\n",
      "3 is divisible by 3\n",
      "4 is not divisible by 3\n",
      "5 is not divisible by 3\n",
      "6 is divisible by 3\n",
      "7 is not divisible by 3\n",
      "8 is not divisible by 3\n",
      "9 is divisible by 3\n",
      "10 is not divisible by 3\n",
      "11 is not divisible by 3\n",
      "12 is divisible by 3\n",
      "13 is not divisible by 3\n",
      "14 is not divisible by 3\n",
      "15 is divisible by 3\n",
      "16 is not divisible by 3\n",
      "17 is not divisible by 3\n",
      "18 is divisible by 3\n",
      "19 is not divisible by 3\n",
      "20 is not divisible by 3\n",
      "21 is divisible by 3\n",
      "22 is not divisible by 3\n",
      "23 is not divisible by 3\n",
      "24 is divisible by 3\n",
      "25 is not divisible by 3\n"
     ]
    }
   ],
   "source": [
    "o=[]\n",
    "p=[]\n",
    "for i in reult:\n",
    "    if i%3==0:\n",
    "        o.append(i)\n",
    "        print(i, \"is divisible by 3\")\n",
    "\n",
    "    else:\n",
    "        p.append(i)\n",
    "        print(i, \"is not divisible by 3\")\n",
    " "
   ]
  },
  {
   "cell_type": "code",
   "execution_count": 30,
   "id": "b07618a1",
   "metadata": {},
   "outputs": [
    {
     "name": "stdout",
     "output_type": "stream",
     "text": [
      "[3, 6, 9, 12, 15, 18, 21, 24]\n",
      "[1, 2, 4, 5, 7, 8, 10, 11, 13, 14, 16, 17, 19, 20, 22, 23, 25]\n"
     ]
    }
   ],
   "source": [
    "print(o)# divisible by 3\n",
    "print(p)# non divisible by 3"
   ]
  },
  {
   "cell_type": "markdown",
   "id": "58347157",
   "metadata": {},
   "source": [
    "# Q7"
   ]
  },
  {
   "cell_type": "raw",
   "id": "29f5893f",
   "metadata": {},
   "source": [
    "# Data type somer are Mutable and some are immutable\n",
    "String ,int, float ,tuple are Immutable where as Dictionaries,list,Set is Mutable"
   ]
  },
  {
   "cell_type": "code",
   "execution_count": 34,
   "id": "6c0802bc",
   "metadata": {},
   "outputs": [
    {
     "name": "stdout",
     "output_type": "stream",
     "text": [
      "140735523361928\n"
     ]
    }
   ],
   "source": [
    "A=12\n",
    "print(id(A)) #140735523361928 id of A variable"
   ]
  },
  {
   "cell_type": "code",
   "execution_count": 35,
   "id": "f4b7bb5f",
   "metadata": {},
   "outputs": [
    {
     "name": "stdout",
     "output_type": "stream",
     "text": [
      "140735523362152\n"
     ]
    }
   ],
   "source": [
    "A=19\n",
    "print(id(A)) # 140735523362152 `"
   ]
  },
  {
   "cell_type": "raw",
   "id": "43d1855b",
   "metadata": {},
   "source": [
    "in above integer example id number has changed as we change the value means integer does not muted"
   ]
  },
  {
   "cell_type": "code",
   "execution_count": 37,
   "id": "c2a47460",
   "metadata": {},
   "outputs": [
    {
     "name": "stdout",
     "output_type": "stream",
     "text": [
      "2248137290752\n"
     ]
    }
   ],
   "source": [
    "# list\n",
    "lis1=[1,2,3,\"A\",\"B\",\"C\"]\n",
    "print(id(lis1))# 2248138307968"
   ]
  },
  {
   "cell_type": "code",
   "execution_count": 40,
   "id": "15ee126e",
   "metadata": {},
   "outputs": [
    {
     "name": "stdout",
     "output_type": "stream",
     "text": [
      "2248137290752\n"
     ]
    }
   ],
   "source": [
    "# here i have done append \n",
    "char= [11,22,33]\n",
    "lis1.append(char)\n",
    "print(id(lis1)) #2248137290752"
   ]
  },
  {
   "cell_type": "code",
   "execution_count": null,
   "id": "47cf0c9b",
   "metadata": {},
   "outputs": [],
   "source": [
    "# in the above example of list i appened list inside list but id is same even after updating with another list so it is Mutable"
   ]
  }
 ],
 "metadata": {
  "kernelspec": {
   "display_name": "Python 3 (ipykernel)",
   "language": "python",
   "name": "python3"
  },
  "language_info": {
   "codemirror_mode": {
    "name": "ipython",
    "version": 3
   },
   "file_extension": ".py",
   "mimetype": "text/x-python",
   "name": "python",
   "nbconvert_exporter": "python",
   "pygments_lexer": "ipython3",
   "version": "3.11.4"
  }
 },
 "nbformat": 4,
 "nbformat_minor": 5
}
